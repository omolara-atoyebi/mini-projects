{
 "cells": [
  {
   "cell_type": "code",
   "execution_count": 17,
   "metadata": {},
   "outputs": [],
   "source": [
    "import cv2\n",
    "import numpy as np\n",
    "import matplotlib.pyplot as plt"
   ]
  },
  {
   "cell_type": "code",
   "execution_count": 25,
   "metadata": {},
   "outputs": [],
   "source": [
    "image = cv2.imread('img/newqr.webp')\n",
    "# image = cv2.cvtColor(image,cv2.COLOR_BGR2GRAY)\n",
    "qrCodeDec = cv2.QRCodeDetector()\n",
    "decodedText, points, straight_qrcode = qrCodeDec.detectAndDecode(image)\n",
    "#type(points)\n"
   ]
  },
  {
   "cell_type": "code",
   "execution_count": 15,
   "metadata": {},
   "outputs": [
    {
     "name": "stdout",
     "output_type": "stream",
     "text": [
      "QR Code not detected\n"
     ]
    }
   ],
   "source": [
    "if points != None:\n",
    "    no_of_point = len(points)\n",
    "    for i in range(no_of_point):\n",
    "        point_index = (i + 1)% no_of_point\n",
    "        cv2.line(image,tuple(points[i][0]), tuple(points[point_index][0]),(0,255,0),3)\n",
    "    print('QR Detected')\n",
    "    print(decodedText)\n",
    "    plt.imshow(image)\n",
    "else:\n",
    "    print('QR Code not detected')"
   ]
  }
 ],
 "metadata": {
  "interpreter": {
   "hash": "497beb55dfe38077624297e125e36959e792a5838f173e475143d4a698e832b3"
  },
  "kernelspec": {
   "display_name": "Python 3.8.13 ('openCV_environ')",
   "language": "python",
   "name": "python3"
  },
  "language_info": {
   "codemirror_mode": {
    "name": "ipython",
    "version": 3
   },
   "file_extension": ".py",
   "mimetype": "text/x-python",
   "name": "python",
   "nbconvert_exporter": "python",
   "pygments_lexer": "ipython3",
   "version": "3.8.13"
  },
  "orig_nbformat": 4
 },
 "nbformat": 4,
 "nbformat_minor": 2
}
